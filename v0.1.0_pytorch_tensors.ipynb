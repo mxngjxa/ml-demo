{
 "cells": [
  {
   "cell_type": "markdown",
   "id": "51839d83",
   "metadata": {},
   "source": [
    "# PyTorch - Tensors"
   ]
  },
  {
   "cell_type": "code",
   "execution_count": 25,
   "id": "3648db56",
   "metadata": {},
   "outputs": [],
   "source": [
    "import torch \n",
    "import torchvision"
   ]
  },
  {
   "cell_type": "code",
   "execution_count": 2,
   "id": "e70deef5",
   "metadata": {},
   "outputs": [],
   "source": [
    "import numpy as np\n",
    "import pandas as pd\n",
    "import matplotlib.pyplot as plt\n",
    "import seaborn as sns"
   ]
  },
  {
   "cell_type": "markdown",
   "id": "0fca0591",
   "metadata": {},
   "source": [
    "## tensor init"
   ]
  },
  {
   "cell_type": "code",
   "execution_count": 3,
   "id": "cddf7014",
   "metadata": {},
   "outputs": [],
   "source": [
    "data = [[1, 2], [3, 4]]\n",
    "x_data = torch.tensor(data)"
   ]
  },
  {
   "cell_type": "code",
   "execution_count": 4,
   "id": "6339b533",
   "metadata": {},
   "outputs": [
    {
     "data": {
      "text/plain": [
       "[[1, 2], [3, 4]]"
      ]
     },
     "execution_count": 4,
     "metadata": {},
     "output_type": "execute_result"
    }
   ],
   "source": [
    "data"
   ]
  },
  {
   "cell_type": "code",
   "execution_count": 5,
   "id": "957e1537",
   "metadata": {},
   "outputs": [
    {
     "data": {
      "text/plain": [
       "tensor([[1, 2],\n",
       "        [3, 4]])"
      ]
     },
     "execution_count": 5,
     "metadata": {},
     "output_type": "execute_result"
    }
   ],
   "source": [
    "x_data"
   ]
  },
  {
   "cell_type": "code",
   "execution_count": 6,
   "id": "3bb44482",
   "metadata": {},
   "outputs": [
    {
     "data": {
      "text/plain": [
       "array([[[  0,   1,   2,   3,   4,   5,   6,   7],\n",
       "        [  8,   9,  10,  11,  12,  13,  14,  15],\n",
       "        [ 16,  17,  18,  19,  20,  21,  22,  23],\n",
       "        [ 24,  25,  26,  27,  28,  29,  30,  31]],\n",
       "\n",
       "       [[ 32,  33,  34,  35,  36,  37,  38,  39],\n",
       "        [ 40,  41,  42,  43,  44,  45,  46,  47],\n",
       "        [ 48,  49,  50,  51,  52,  53,  54,  55],\n",
       "        [ 56,  57,  58,  59,  60,  61,  62,  63]],\n",
       "\n",
       "       [[ 64,  65,  66,  67,  68,  69,  70,  71],\n",
       "        [ 72,  73,  74,  75,  76,  77,  78,  79],\n",
       "        [ 80,  81,  82,  83,  84,  85,  86,  87],\n",
       "        [ 88,  89,  90,  91,  92,  93,  94,  95]],\n",
       "\n",
       "       [[ 96,  97,  98,  99, 100, 101, 102, 103],\n",
       "        [104, 105, 106, 107, 108, 109, 110, 111],\n",
       "        [112, 113, 114, 115, 116, 117, 118, 119],\n",
       "        [120, 121, 122, 123, 124, 125, 126, 127]]])"
      ]
     },
     "execution_count": 6,
     "metadata": {},
     "output_type": "execute_result"
    }
   ],
   "source": [
    "np_array = np.arange(128)\n",
    "np_array = np_array.reshape((4, 4, 8))\n",
    "np_array"
   ]
  },
  {
   "cell_type": "code",
   "execution_count": 7,
   "id": "8ab90e9b",
   "metadata": {},
   "outputs": [
    {
     "data": {
      "text/plain": [
       "tensor([[[  0,   1,   2,   3,   4,   5,   6,   7],\n",
       "         [  8,   9,  10,  11,  12,  13,  14,  15],\n",
       "         [ 16,  17,  18,  19,  20,  21,  22,  23],\n",
       "         [ 24,  25,  26,  27,  28,  29,  30,  31]],\n",
       "\n",
       "        [[ 32,  33,  34,  35,  36,  37,  38,  39],\n",
       "         [ 40,  41,  42,  43,  44,  45,  46,  47],\n",
       "         [ 48,  49,  50,  51,  52,  53,  54,  55],\n",
       "         [ 56,  57,  58,  59,  60,  61,  62,  63]],\n",
       "\n",
       "        [[ 64,  65,  66,  67,  68,  69,  70,  71],\n",
       "         [ 72,  73,  74,  75,  76,  77,  78,  79],\n",
       "         [ 80,  81,  82,  83,  84,  85,  86,  87],\n",
       "         [ 88,  89,  90,  91,  92,  93,  94,  95]],\n",
       "\n",
       "        [[ 96,  97,  98,  99, 100, 101, 102, 103],\n",
       "         [104, 105, 106, 107, 108, 109, 110, 111],\n",
       "         [112, 113, 114, 115, 116, 117, 118, 119],\n",
       "         [120, 121, 122, 123, 124, 125, 126, 127]]])"
      ]
     },
     "execution_count": 7,
     "metadata": {},
     "output_type": "execute_result"
    }
   ],
   "source": [
    "x_np = torch.from_numpy(np_array)\n",
    "x_np"
   ]
  },
  {
   "cell_type": "code",
   "execution_count": 8,
   "id": "4cd182a0",
   "metadata": {},
   "outputs": [
    {
     "data": {
      "text/plain": [
       "tensor([[[1, 1, 1, 1, 1, 1, 1, 1],\n",
       "         [1, 1, 1, 1, 1, 1, 1, 1],\n",
       "         [1, 1, 1, 1, 1, 1, 1, 1],\n",
       "         [1, 1, 1, 1, 1, 1, 1, 1]],\n",
       "\n",
       "        [[1, 1, 1, 1, 1, 1, 1, 1],\n",
       "         [1, 1, 1, 1, 1, 1, 1, 1],\n",
       "         [1, 1, 1, 1, 1, 1, 1, 1],\n",
       "         [1, 1, 1, 1, 1, 1, 1, 1]],\n",
       "\n",
       "        [[1, 1, 1, 1, 1, 1, 1, 1],\n",
       "         [1, 1, 1, 1, 1, 1, 1, 1],\n",
       "         [1, 1, 1, 1, 1, 1, 1, 1],\n",
       "         [1, 1, 1, 1, 1, 1, 1, 1]],\n",
       "\n",
       "        [[1, 1, 1, 1, 1, 1, 1, 1],\n",
       "         [1, 1, 1, 1, 1, 1, 1, 1],\n",
       "         [1, 1, 1, 1, 1, 1, 1, 1],\n",
       "         [1, 1, 1, 1, 1, 1, 1, 1]]])"
      ]
     },
     "execution_count": 8,
     "metadata": {},
     "output_type": "execute_result"
    }
   ],
   "source": [
    "x_ones = torch.ones_like(x_np)\n",
    "x_ones"
   ]
  },
  {
   "cell_type": "code",
   "execution_count": 9,
   "id": "431e70f1",
   "metadata": {},
   "outputs": [
    {
     "data": {
      "text/plain": [
       "tensor([[[0.3557, 0.1341, 0.2033, 0.7348, 0.8554, 0.8290, 0.0845, 0.3573],\n",
       "         [0.5866, 0.1522, 0.7962, 0.7270, 0.8095, 0.3678, 0.6846, 0.2545],\n",
       "         [0.3538, 0.2396, 0.3523, 0.8158, 0.6269, 0.5914, 0.9062, 0.4684],\n",
       "         [0.7768, 0.0899, 0.7386, 0.2507, 0.3541, 0.1800, 0.9163, 0.8482]],\n",
       "\n",
       "        [[0.9154, 0.2534, 0.1331, 0.2865, 0.4299, 0.2208, 0.1028, 0.8366],\n",
       "         [0.5412, 0.4938, 0.7855, 0.0899, 0.1704, 0.9589, 0.2459, 0.9939],\n",
       "         [0.4077, 0.7253, 0.8149, 0.7357, 0.8692, 0.6532, 0.2709, 0.3904],\n",
       "         [0.9061, 0.0745, 0.4010, 0.8446, 0.6205, 0.9482, 0.4752, 0.7959]],\n",
       "\n",
       "        [[0.2039, 0.0815, 0.8293, 0.7921, 0.9690, 0.5543, 0.2195, 0.6032],\n",
       "         [0.1041, 0.3714, 0.8700, 0.5070, 0.3058, 0.1406, 0.1312, 0.2512],\n",
       "         [0.5899, 0.0781, 0.5091, 0.4677, 0.7825, 0.3330, 0.5372, 0.5312],\n",
       "         [0.4430, 0.1320, 0.7899, 0.0563, 0.0106, 0.2092, 0.6134, 0.6724]],\n",
       "\n",
       "        [[0.1512, 0.7957, 0.3477, 0.2929, 0.4269, 0.2167, 0.7989, 0.5977],\n",
       "         [0.7807, 0.0883, 0.1170, 0.2379, 0.3883, 0.8560, 0.9839, 0.6220],\n",
       "         [0.9511, 0.5918, 0.6720, 0.6822, 0.8719, 0.0551, 0.0953, 0.7512],\n",
       "         [0.1583, 0.9943, 0.6588, 0.8088, 0.8331, 0.3820, 0.7279, 0.3090]]])"
      ]
     },
     "execution_count": 9,
     "metadata": {},
     "output_type": "execute_result"
    }
   ],
   "source": [
    "x_rand = torch.rand_like(x_ones, dtype=torch.float) # overrides the datatype of x_data\n",
    "x_rand"
   ]
  },
  {
   "cell_type": "code",
   "execution_count": 10,
   "id": "36243d2c",
   "metadata": {},
   "outputs": [
    {
     "name": "stdout",
     "output_type": "stream",
     "text": [
      "rand_tensor tensor([[0.5422, 0.5602, 0.3106],\n",
      "        [0.8988, 0.5179, 0.1956]])\n",
      "\n",
      "ones_tensor tensor([[1., 1., 1.],\n",
      "        [1., 1., 1.]])\n",
      "\n",
      "zeros_tensor tensor([[0., 0., 0.],\n",
      "        [0., 0., 0.]])\n"
     ]
    }
   ],
   "source": [
    "shape = (2, 3, )\n",
    "\n",
    "rand_tensor = torch.rand(shape)\n",
    "print(\"rand_tensor\", rand_tensor)\n",
    "ones_tensor = torch.ones(shape)\n",
    "print(\"\\nones_tensor\", ones_tensor)\n",
    "zeros_tensor = torch.zeros(shape)\n",
    "print(\"\\nzeros_tensor\", zeros_tensor)"
   ]
  },
  {
   "cell_type": "code",
   "execution_count": 11,
   "id": "52516000",
   "metadata": {},
   "outputs": [
    {
     "data": {
      "text/plain": [
       "torch.Size([2, 3])"
      ]
     },
     "execution_count": 11,
     "metadata": {},
     "output_type": "execute_result"
    }
   ],
   "source": [
    "rand_tensor.shape"
   ]
  },
  {
   "cell_type": "code",
   "execution_count": 12,
   "id": "aea7976f",
   "metadata": {},
   "outputs": [
    {
     "data": {
      "text/plain": [
       "torch.float32"
      ]
     },
     "execution_count": 12,
     "metadata": {},
     "output_type": "execute_result"
    }
   ],
   "source": [
    "rand_tensor.dtype"
   ]
  },
  {
   "cell_type": "code",
   "execution_count": 13,
   "id": "10732433",
   "metadata": {},
   "outputs": [
    {
     "data": {
      "text/plain": [
       "device(type='cpu')"
      ]
     },
     "execution_count": 13,
     "metadata": {},
     "output_type": "execute_result"
    }
   ],
   "source": [
    "rand_tensor.device"
   ]
  },
  {
   "cell_type": "code",
   "execution_count": 17,
   "id": "32ea5b9c",
   "metadata": {},
   "outputs": [
    {
     "data": {
      "text/plain": [
       "tensor([[0.5909, 0.2101, 0.7176, 0.2078],\n",
       "        [0.0787, 0.7132, 0.7797, 0.7012],\n",
       "        [0.0812, 0.4989, 0.8068, 0.5502],\n",
       "        [0.6067, 0.3477, 0.3143, 0.6903],\n",
       "        [0.2363, 0.1418, 0.0132, 0.3239]])"
      ]
     },
     "execution_count": 17,
     "metadata": {},
     "output_type": "execute_result"
    }
   ],
   "source": [
    "tensor = torch.rand(5, 4)\n",
    "tensor"
   ]
  },
  {
   "cell_type": "code",
   "execution_count": 18,
   "id": "c0492cf1",
   "metadata": {},
   "outputs": [
    {
     "name": "stdout",
     "output_type": "stream",
     "text": [
      "Tensor is on: cuda:0\n"
     ]
    }
   ],
   "source": [
    "if torch.cuda.is_available():\n",
    "    tensor = tensor.to('cuda')\n",
    "    print(f\"Tensor is on: {tensor.device}\")"
   ]
  },
  {
   "cell_type": "code",
   "execution_count": 20,
   "id": "b1301804",
   "metadata": {},
   "outputs": [
    {
     "data": {
      "text/plain": [
       "tensor([0.2078, 0.7012, 0.5502, 0.6903, 0.3239], device='cuda:0')"
      ]
     },
     "execution_count": 20,
     "metadata": {},
     "output_type": "execute_result"
    }
   ],
   "source": [
    "tensor[:, 3]"
   ]
  },
  {
   "cell_type": "code",
   "execution_count": 31,
   "id": "e0e8ce79",
   "metadata": {},
   "outputs": [
    {
     "data": {
      "text/plain": [
       "tensor([[1., 0., 1., 1.],\n",
       "        [2., 2., 2., 2.],\n",
       "        [1., 0., 1., 1.],\n",
       "        [1., 0., 1., 1.]])"
      ]
     },
     "execution_count": 31,
     "metadata": {},
     "output_type": "execute_result"
    }
   ],
   "source": [
    "tensor = torch.ones(4, 4)\n",
    "tensor[:, 1] = 0\n",
    "tensor[1, :] = 2\n",
    "tensor"
   ]
  },
  {
   "cell_type": "code",
   "execution_count": 32,
   "id": "5704806f",
   "metadata": {},
   "outputs": [
    {
     "data": {
      "text/plain": [
       "tensor([[1., 0., 1., 1.],\n",
       "        [2., 2., 2., 2.],\n",
       "        [1., 0., 1., 1.],\n",
       "        [1., 0., 1., 1.],\n",
       "        [1., 0., 1., 1.],\n",
       "        [2., 2., 2., 2.],\n",
       "        [1., 0., 1., 1.],\n",
       "        [1., 0., 1., 1.],\n",
       "        [1., 0., 1., 1.],\n",
       "        [2., 2., 2., 2.],\n",
       "        [1., 0., 1., 1.],\n",
       "        [1., 0., 1., 1.]])"
      ]
     },
     "execution_count": 32,
     "metadata": {},
     "output_type": "execute_result"
    }
   ],
   "source": [
    "tensor = torch.cat(tensors=[tensor, tensor, tensor], dim=0)\n",
    "tensor"
   ]
  },
  {
   "cell_type": "code",
   "execution_count": 33,
   "id": "c3b83ff5",
   "metadata": {},
   "outputs": [
    {
     "data": {
      "text/plain": [
       "tensor([[1., 0., 1., 1., 1., 0., 1., 1., 1., 0., 1., 1.],\n",
       "        [2., 2., 2., 2., 2., 2., 2., 2., 2., 2., 2., 2.],\n",
       "        [1., 0., 1., 1., 1., 0., 1., 1., 1., 0., 1., 1.],\n",
       "        [1., 0., 1., 1., 1., 0., 1., 1., 1., 0., 1., 1.],\n",
       "        [1., 0., 1., 1., 1., 0., 1., 1., 1., 0., 1., 1.],\n",
       "        [2., 2., 2., 2., 2., 2., 2., 2., 2., 2., 2., 2.],\n",
       "        [1., 0., 1., 1., 1., 0., 1., 1., 1., 0., 1., 1.],\n",
       "        [1., 0., 1., 1., 1., 0., 1., 1., 1., 0., 1., 1.],\n",
       "        [1., 0., 1., 1., 1., 0., 1., 1., 1., 0., 1., 1.],\n",
       "        [2., 2., 2., 2., 2., 2., 2., 2., 2., 2., 2., 2.],\n",
       "        [1., 0., 1., 1., 1., 0., 1., 1., 1., 0., 1., 1.],\n",
       "        [1., 0., 1., 1., 1., 0., 1., 1., 1., 0., 1., 1.]])"
      ]
     },
     "execution_count": 33,
     "metadata": {},
     "output_type": "execute_result"
    }
   ],
   "source": [
    "tensor = torch.cat(tensors=[tensor, tensor, tensor], dim=1)\n",
    "tensor"
   ]
  },
  {
   "cell_type": "code",
   "execution_count": 34,
   "id": "5d91bc87",
   "metadata": {},
   "outputs": [
    {
     "data": {
      "text/plain": [
       "torch.Size([12, 12])"
      ]
     },
     "execution_count": 34,
     "metadata": {},
     "output_type": "execute_result"
    }
   ],
   "source": [
    "tensor.shape"
   ]
  },
  {
   "cell_type": "markdown",
   "id": "defcb646",
   "metadata": {},
   "source": [
    "# element wise multiplication"
   ]
  },
  {
   "cell_type": "code",
   "execution_count": 35,
   "id": "28dbbb2d",
   "metadata": {},
   "outputs": [
    {
     "data": {
      "text/plain": [
       "tensor([[1., 0., 1., 1., 1., 0., 1., 1., 1., 0., 1., 1.],\n",
       "        [4., 4., 4., 4., 4., 4., 4., 4., 4., 4., 4., 4.],\n",
       "        [1., 0., 1., 1., 1., 0., 1., 1., 1., 0., 1., 1.],\n",
       "        [1., 0., 1., 1., 1., 0., 1., 1., 1., 0., 1., 1.],\n",
       "        [1., 0., 1., 1., 1., 0., 1., 1., 1., 0., 1., 1.],\n",
       "        [4., 4., 4., 4., 4., 4., 4., 4., 4., 4., 4., 4.],\n",
       "        [1., 0., 1., 1., 1., 0., 1., 1., 1., 0., 1., 1.],\n",
       "        [1., 0., 1., 1., 1., 0., 1., 1., 1., 0., 1., 1.],\n",
       "        [1., 0., 1., 1., 1., 0., 1., 1., 1., 0., 1., 1.],\n",
       "        [4., 4., 4., 4., 4., 4., 4., 4., 4., 4., 4., 4.],\n",
       "        [1., 0., 1., 1., 1., 0., 1., 1., 1., 0., 1., 1.],\n",
       "        [1., 0., 1., 1., 1., 0., 1., 1., 1., 0., 1., 1.]])"
      ]
     },
     "execution_count": 35,
     "metadata": {},
     "output_type": "execute_result"
    }
   ],
   "source": [
    "tensor.mul(tensor)"
   ]
  },
  {
   "cell_type": "code",
   "execution_count": 36,
   "id": "8f00304e",
   "metadata": {},
   "outputs": [
    {
     "data": {
      "text/plain": [
       "tensor([[1., 0., 1., 1., 1., 0., 1., 1., 1., 0., 1., 1.],\n",
       "        [4., 4., 4., 4., 4., 4., 4., 4., 4., 4., 4., 4.],\n",
       "        [1., 0., 1., 1., 1., 0., 1., 1., 1., 0., 1., 1.],\n",
       "        [1., 0., 1., 1., 1., 0., 1., 1., 1., 0., 1., 1.],\n",
       "        [1., 0., 1., 1., 1., 0., 1., 1., 1., 0., 1., 1.],\n",
       "        [4., 4., 4., 4., 4., 4., 4., 4., 4., 4., 4., 4.],\n",
       "        [1., 0., 1., 1., 1., 0., 1., 1., 1., 0., 1., 1.],\n",
       "        [1., 0., 1., 1., 1., 0., 1., 1., 1., 0., 1., 1.],\n",
       "        [1., 0., 1., 1., 1., 0., 1., 1., 1., 0., 1., 1.],\n",
       "        [4., 4., 4., 4., 4., 4., 4., 4., 4., 4., 4., 4.],\n",
       "        [1., 0., 1., 1., 1., 0., 1., 1., 1., 0., 1., 1.],\n",
       "        [1., 0., 1., 1., 1., 0., 1., 1., 1., 0., 1., 1.]])"
      ]
     },
     "execution_count": 36,
     "metadata": {},
     "output_type": "execute_result"
    }
   ],
   "source": [
    "tensor * tensor"
   ]
  },
  {
   "cell_type": "markdown",
   "id": "aaf40aee",
   "metadata": {},
   "source": [
    "# matrix multiplication"
   ]
  },
  {
   "cell_type": "code",
   "execution_count": 37,
   "id": "5ae8922e",
   "metadata": {},
   "outputs": [
    {
     "data": {
      "text/plain": [
       "tensor([[ 9., 18.,  9.,  9.,  9., 18.,  9.,  9.,  9., 18.,  9.,  9.],\n",
       "        [18., 48., 18., 18., 18., 48., 18., 18., 18., 48., 18., 18.],\n",
       "        [ 9., 18.,  9.,  9.,  9., 18.,  9.,  9.,  9., 18.,  9.,  9.],\n",
       "        [ 9., 18.,  9.,  9.,  9., 18.,  9.,  9.,  9., 18.,  9.,  9.],\n",
       "        [ 9., 18.,  9.,  9.,  9., 18.,  9.,  9.,  9., 18.,  9.,  9.],\n",
       "        [18., 48., 18., 18., 18., 48., 18., 18., 18., 48., 18., 18.],\n",
       "        [ 9., 18.,  9.,  9.,  9., 18.,  9.,  9.,  9., 18.,  9.,  9.],\n",
       "        [ 9., 18.,  9.,  9.,  9., 18.,  9.,  9.,  9., 18.,  9.,  9.],\n",
       "        [ 9., 18.,  9.,  9.,  9., 18.,  9.,  9.,  9., 18.,  9.,  9.],\n",
       "        [18., 48., 18., 18., 18., 48., 18., 18., 18., 48., 18., 18.],\n",
       "        [ 9., 18.,  9.,  9.,  9., 18.,  9.,  9.,  9., 18.,  9.,  9.],\n",
       "        [ 9., 18.,  9.,  9.,  9., 18.,  9.,  9.,  9., 18.,  9.,  9.]])"
      ]
     },
     "execution_count": 37,
     "metadata": {},
     "output_type": "execute_result"
    }
   ],
   "source": [
    "tensor.matmul(tensor.T)"
   ]
  },
  {
   "cell_type": "code",
   "execution_count": 39,
   "id": "ce937073",
   "metadata": {},
   "outputs": [
    {
     "data": {
      "text/plain": [
       "tensor([[21., 12., 21., 21., 21., 12., 21., 21., 21., 12., 21., 21.],\n",
       "        [12., 12., 12., 12., 12., 12., 12., 12., 12., 12., 12., 12.],\n",
       "        [21., 12., 21., 21., 21., 12., 21., 21., 21., 12., 21., 21.],\n",
       "        [21., 12., 21., 21., 21., 12., 21., 21., 21., 12., 21., 21.],\n",
       "        [21., 12., 21., 21., 21., 12., 21., 21., 21., 12., 21., 21.],\n",
       "        [12., 12., 12., 12., 12., 12., 12., 12., 12., 12., 12., 12.],\n",
       "        [21., 12., 21., 21., 21., 12., 21., 21., 21., 12., 21., 21.],\n",
       "        [21., 12., 21., 21., 21., 12., 21., 21., 21., 12., 21., 21.],\n",
       "        [21., 12., 21., 21., 21., 12., 21., 21., 21., 12., 21., 21.],\n",
       "        [12., 12., 12., 12., 12., 12., 12., 12., 12., 12., 12., 12.],\n",
       "        [21., 12., 21., 21., 21., 12., 21., 21., 21., 12., 21., 21.],\n",
       "        [21., 12., 21., 21., 21., 12., 21., 21., 21., 12., 21., 21.]])"
      ]
     },
     "execution_count": 39,
     "metadata": {},
     "output_type": "execute_result"
    }
   ],
   "source": [
    "tensor.T @ tensor"
   ]
  },
  {
   "cell_type": "markdown",
   "id": "abd24052",
   "metadata": {},
   "source": [
    "## in place operations (discouraged due to history loss)"
   ]
  },
  {
   "cell_type": "code",
   "execution_count": null,
   "id": "98987ce8",
   "metadata": {},
   "outputs": [
    {
     "data": {
      "text/plain": [
       "tensor([[2., 1., 2., 2., 2., 1., 2., 2., 2., 1., 2., 2.],\n",
       "        [3., 3., 3., 3., 3., 3., 3., 3., 3., 3., 3., 3.],\n",
       "        [2., 1., 2., 2., 2., 1., 2., 2., 2., 1., 2., 2.],\n",
       "        [2., 1., 2., 2., 2., 1., 2., 2., 2., 1., 2., 2.],\n",
       "        [2., 1., 2., 2., 2., 1., 2., 2., 2., 1., 2., 2.],\n",
       "        [3., 3., 3., 3., 3., 3., 3., 3., 3., 3., 3., 3.],\n",
       "        [2., 1., 2., 2., 2., 1., 2., 2., 2., 1., 2., 2.],\n",
       "        [2., 1., 2., 2., 2., 1., 2., 2., 2., 1., 2., 2.],\n",
       "        [2., 1., 2., 2., 2., 1., 2., 2., 2., 1., 2., 2.],\n",
       "        [3., 3., 3., 3., 3., 3., 3., 3., 3., 3., 3., 3.],\n",
       "        [2., 1., 2., 2., 2., 1., 2., 2., 2., 1., 2., 2.],\n",
       "        [2., 1., 2., 2., 2., 1., 2., 2., 2., 1., 2., 2.]])"
      ]
     },
     "execution_count": 42,
     "metadata": {},
     "output_type": "execute_result"
    }
   ],
   "source": [
    "tensor.add_(1)"
   ]
  },
  {
   "cell_type": "markdown",
   "id": "2adcc79d",
   "metadata": {},
   "source": [
    "# bridging over to numpy"
   ]
  },
  {
   "cell_type": "code",
   "execution_count": 50,
   "id": "e1ec43f1",
   "metadata": {},
   "outputs": [
    {
     "data": {
      "text/plain": [
       "tensor([1., 1., 1., 1., 1.])"
      ]
     },
     "execution_count": 50,
     "metadata": {},
     "output_type": "execute_result"
    }
   ],
   "source": [
    "t = torch.ones(5)\n",
    "t"
   ]
  },
  {
   "cell_type": "code",
   "execution_count": 51,
   "id": "c773a94e",
   "metadata": {},
   "outputs": [
    {
     "data": {
      "text/plain": [
       "array([1., 1., 1., 1., 1.], dtype=float32)"
      ]
     },
     "execution_count": 51,
     "metadata": {},
     "output_type": "execute_result"
    }
   ],
   "source": [
    "n = t.numpy()\n",
    "n"
   ]
  },
  {
   "cell_type": "code",
   "execution_count": 52,
   "id": "39f58e89",
   "metadata": {},
   "outputs": [
    {
     "data": {
      "text/plain": [
       "(tensor([2., 2., 2., 2., 2.]), array([2., 2., 2., 2., 2.], dtype=float32))"
      ]
     },
     "execution_count": 52,
     "metadata": {},
     "output_type": "execute_result"
    }
   ],
   "source": [
    "# note that the two are connected\n",
    "t.add_(1)\n",
    "t, n"
   ]
  },
  {
   "cell_type": "code",
   "execution_count": 53,
   "id": "f67e51f6",
   "metadata": {},
   "outputs": [
    {
     "data": {
      "text/plain": [
       "(array([1., 1., 1., 1., 1., 1., 1., 1., 1., 1.]),\n",
       " tensor([1., 1., 1., 1., 1., 1., 1., 1., 1., 1.], dtype=torch.float64))"
      ]
     },
     "execution_count": 53,
     "metadata": {},
     "output_type": "execute_result"
    }
   ],
   "source": [
    "# goes around as well\n",
    "n = np.ones(10)\n",
    "t = torch.from_numpy(n)\n",
    "n, t"
   ]
  },
  {
   "cell_type": "code",
   "execution_count": 54,
   "id": "8ff9db85",
   "metadata": {},
   "outputs": [
    {
     "data": {
      "text/plain": [
       "(tensor([5., 5., 5., 5., 5., 5., 5., 5., 5., 5.], dtype=torch.float64),\n",
       " array([5., 5., 5., 5., 5., 5., 5., 5., 5., 5.]))"
      ]
     },
     "execution_count": 54,
     "metadata": {},
     "output_type": "execute_result"
    }
   ],
   "source": [
    "np.add(n, 4, out=n)\n",
    "t, n"
   ]
  }
 ],
 "metadata": {
  "kernelspec": {
   "display_name": ".venv",
   "language": "python",
   "name": "python3"
  },
  "language_info": {
   "codemirror_mode": {
    "name": "ipython",
    "version": 3
   },
   "file_extension": ".py",
   "mimetype": "text/x-python",
   "name": "python",
   "nbconvert_exporter": "python",
   "pygments_lexer": "ipython3",
   "version": "3.13.5"
  }
 },
 "nbformat": 4,
 "nbformat_minor": 5
}

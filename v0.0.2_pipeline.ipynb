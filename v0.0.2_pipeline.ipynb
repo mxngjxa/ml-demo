{
 "cells": [
  {
   "cell_type": "markdown",
   "id": "9fedd54f",
   "metadata": {},
   "source": [
    "# huggingface demo repo with `jinaai/jina-embeddings-v2-base-zh`\n",
    "\n",
    "demo for pipeline from huggingface"
   ]
  },
  {
   "cell_type": "code",
   "execution_count": null,
   "id": "c733d76f",
   "metadata": {},
   "outputs": [],
   "source": [
    "import os\n",
    "import torch\n",
    "import pandas as pd\n",
    "import evaluate\n",
    "import numpy as np\n",
    "import joblib\n",
    "from datasets import Dataset, concatenate_datasets, load_dataset\n",
    "\n",
    "from sklearn.preprocessing import LabelEncoder\n",
    "from transformers import (\n",
    "    AutoTokenizer, AutoModelForSequenceClassification,\n",
    "    TrainingArguments, Trainer, DataCollatorWithPadding,\n",
    "    pipeline, AutoModel \n",
    ")"
   ]
  },
  {
   "cell_type": "code",
   "execution_count": null,
   "id": "12fe221d",
   "metadata": {},
   "outputs": [],
   "source": [
    "MODEL = 'jinaai/jina-embeddings-v2-base-zh'\n",
    "DEVICE = torch.device(\"cuda\" if torch.cuda.is_available() else \"cpu\")\n"
   ]
  },
  {
   "cell_type": "code",
   "execution_count": null,
   "id": "32b980e5",
   "metadata": {},
   "outputs": [],
   "source": [
    "# Methods and `google-bert/bert-base-chinese`\n",
    "dataset = load_dataset(\n",
    "    'parquet', \n",
    "    data_files={\n",
    "        'train': 'data/train_zh.parquet',\n",
    "        'test': 'data/test_zh.parquet'\n",
    "    })\n",
    "dataset"
   ]
  }
 ],
 "metadata": {
  "language_info": {
   "name": "python"
  }
 },
 "nbformat": 4,
 "nbformat_minor": 5
}

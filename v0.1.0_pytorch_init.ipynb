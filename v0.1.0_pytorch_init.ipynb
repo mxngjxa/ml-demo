{
 "cells": [
  {
   "cell_type": "markdown",
   "id": "51839d83",
   "metadata": {},
   "source": [
    "# PyTorch - Tensors"
   ]
  },
  {
   "cell_type": "code",
   "execution_count": 1,
   "id": "3648db56",
   "metadata": {},
   "outputs": [],
   "source": [
    "import torch \n",
    "import torchvision"
   ]
  },
  {
   "cell_type": "code",
   "execution_count": 2,
   "id": "e70deef5",
   "metadata": {},
   "outputs": [],
   "source": [
    "import numpy as np\n",
    "import pandas as pd\n",
    "import matplotlib.pyplot as plt\n",
    "import seaborn as sns"
   ]
  },
  {
   "cell_type": "markdown",
   "id": "0fca0591",
   "metadata": {},
   "source": [
    "## tensor init"
   ]
  },
  {
   "cell_type": "code",
   "execution_count": 3,
   "id": "cddf7014",
   "metadata": {},
   "outputs": [],
   "source": [
    "data = [[1, 2], [3, 4]]\n",
    "x_data = torch.tensor(data)"
   ]
  },
  {
   "cell_type": "code",
   "execution_count": 4,
   "id": "6339b533",
   "metadata": {},
   "outputs": [
    {
     "data": {
      "text/plain": [
       "[[1, 2], [3, 4]]"
      ]
     },
     "execution_count": 4,
     "metadata": {},
     "output_type": "execute_result"
    }
   ],
   "source": [
    "data"
   ]
  },
  {
   "cell_type": "code",
   "execution_count": 5,
   "id": "957e1537",
   "metadata": {},
   "outputs": [
    {
     "data": {
      "text/plain": [
       "tensor([[1, 2],\n",
       "        [3, 4]])"
      ]
     },
     "execution_count": 5,
     "metadata": {},
     "output_type": "execute_result"
    }
   ],
   "source": [
    "x_data"
   ]
  },
  {
   "cell_type": "code",
   "execution_count": 18,
   "id": "3bb44482",
   "metadata": {},
   "outputs": [
    {
     "data": {
      "text/plain": [
       "array([[[  0,   1,   2,   3,   4,   5,   6,   7],\n",
       "        [  8,   9,  10,  11,  12,  13,  14,  15],\n",
       "        [ 16,  17,  18,  19,  20,  21,  22,  23],\n",
       "        [ 24,  25,  26,  27,  28,  29,  30,  31]],\n",
       "\n",
       "       [[ 32,  33,  34,  35,  36,  37,  38,  39],\n",
       "        [ 40,  41,  42,  43,  44,  45,  46,  47],\n",
       "        [ 48,  49,  50,  51,  52,  53,  54,  55],\n",
       "        [ 56,  57,  58,  59,  60,  61,  62,  63]],\n",
       "\n",
       "       [[ 64,  65,  66,  67,  68,  69,  70,  71],\n",
       "        [ 72,  73,  74,  75,  76,  77,  78,  79],\n",
       "        [ 80,  81,  82,  83,  84,  85,  86,  87],\n",
       "        [ 88,  89,  90,  91,  92,  93,  94,  95]],\n",
       "\n",
       "       [[ 96,  97,  98,  99, 100, 101, 102, 103],\n",
       "        [104, 105, 106, 107, 108, 109, 110, 111],\n",
       "        [112, 113, 114, 115, 116, 117, 118, 119],\n",
       "        [120, 121, 122, 123, 124, 125, 126, 127]]])"
      ]
     },
     "execution_count": 18,
     "metadata": {},
     "output_type": "execute_result"
    }
   ],
   "source": [
    "np_array = np.arange(128)\n",
    "np_array = np_array.reshape((4, 4, 8))\n",
    "np_array"
   ]
  },
  {
   "cell_type": "code",
   "execution_count": 19,
   "id": "8ab90e9b",
   "metadata": {},
   "outputs": [
    {
     "data": {
      "text/plain": [
       "tensor([[[  0,   1,   2,   3,   4,   5,   6,   7],\n",
       "         [  8,   9,  10,  11,  12,  13,  14,  15],\n",
       "         [ 16,  17,  18,  19,  20,  21,  22,  23],\n",
       "         [ 24,  25,  26,  27,  28,  29,  30,  31]],\n",
       "\n",
       "        [[ 32,  33,  34,  35,  36,  37,  38,  39],\n",
       "         [ 40,  41,  42,  43,  44,  45,  46,  47],\n",
       "         [ 48,  49,  50,  51,  52,  53,  54,  55],\n",
       "         [ 56,  57,  58,  59,  60,  61,  62,  63]],\n",
       "\n",
       "        [[ 64,  65,  66,  67,  68,  69,  70,  71],\n",
       "         [ 72,  73,  74,  75,  76,  77,  78,  79],\n",
       "         [ 80,  81,  82,  83,  84,  85,  86,  87],\n",
       "         [ 88,  89,  90,  91,  92,  93,  94,  95]],\n",
       "\n",
       "        [[ 96,  97,  98,  99, 100, 101, 102, 103],\n",
       "         [104, 105, 106, 107, 108, 109, 110, 111],\n",
       "         [112, 113, 114, 115, 116, 117, 118, 119],\n",
       "         [120, 121, 122, 123, 124, 125, 126, 127]]])"
      ]
     },
     "execution_count": 19,
     "metadata": {},
     "output_type": "execute_result"
    }
   ],
   "source": [
    "x_np = torch.from_numpy(np_array)\n",
    "x_np"
   ]
  },
  {
   "cell_type": "code",
   "execution_count": 20,
   "id": "4cd182a0",
   "metadata": {},
   "outputs": [
    {
     "data": {
      "text/plain": [
       "tensor([[[1, 1, 1, 1, 1, 1, 1, 1],\n",
       "         [1, 1, 1, 1, 1, 1, 1, 1],\n",
       "         [1, 1, 1, 1, 1, 1, 1, 1],\n",
       "         [1, 1, 1, 1, 1, 1, 1, 1]],\n",
       "\n",
       "        [[1, 1, 1, 1, 1, 1, 1, 1],\n",
       "         [1, 1, 1, 1, 1, 1, 1, 1],\n",
       "         [1, 1, 1, 1, 1, 1, 1, 1],\n",
       "         [1, 1, 1, 1, 1, 1, 1, 1]],\n",
       "\n",
       "        [[1, 1, 1, 1, 1, 1, 1, 1],\n",
       "         [1, 1, 1, 1, 1, 1, 1, 1],\n",
       "         [1, 1, 1, 1, 1, 1, 1, 1],\n",
       "         [1, 1, 1, 1, 1, 1, 1, 1]],\n",
       "\n",
       "        [[1, 1, 1, 1, 1, 1, 1, 1],\n",
       "         [1, 1, 1, 1, 1, 1, 1, 1],\n",
       "         [1, 1, 1, 1, 1, 1, 1, 1],\n",
       "         [1, 1, 1, 1, 1, 1, 1, 1]]])"
      ]
     },
     "execution_count": 20,
     "metadata": {},
     "output_type": "execute_result"
    }
   ],
   "source": [
    "x_ones = torch.ones_like(x_np)\n",
    "x_ones"
   ]
  },
  {
   "cell_type": "code",
   "execution_count": 23,
   "id": "431e70f1",
   "metadata": {},
   "outputs": [
    {
     "data": {
      "text/plain": [
       "tensor([[[0.4760, 0.1663, 0.4084, 0.5064, 0.9158, 0.8652, 0.9199, 0.7916],\n",
       "         [0.3047, 0.3542, 0.6401, 0.9714, 0.8601, 0.2772, 0.7217, 0.8921],\n",
       "         [0.6422, 0.3755, 0.1743, 0.2959, 0.8030, 0.4400, 0.8561, 0.2267],\n",
       "         [0.9233, 0.0238, 0.7237, 0.4783, 0.6117, 0.4202, 0.7439, 0.3052]],\n",
       "\n",
       "        [[0.9394, 0.7837, 0.9180, 0.4957, 0.2925, 0.8229, 0.9913, 0.3103],\n",
       "         [0.9355, 0.8551, 0.1137, 0.1200, 0.8066, 0.7790, 0.8421, 0.2506],\n",
       "         [0.3491, 0.9713, 0.5080, 0.5263, 0.8180, 0.3900, 0.7802, 0.0925],\n",
       "         [0.4487, 0.8491, 0.1479, 0.3451, 0.3105, 0.1481, 0.8415, 0.0953]],\n",
       "\n",
       "        [[0.1107, 0.2632, 0.1154, 0.1395, 0.8261, 0.7461, 0.2947, 0.5907],\n",
       "         [0.6090, 0.6063, 0.0619, 0.8951, 0.9164, 0.8504, 0.8832, 0.4710],\n",
       "         [0.7635, 0.2490, 0.7474, 0.9647, 0.0849, 0.7642, 0.8319, 0.8889],\n",
       "         [0.9565, 0.6617, 0.9228, 0.1925, 0.3112, 0.6913, 0.4395, 0.5653]],\n",
       "\n",
       "        [[0.9574, 0.7077, 0.8645, 0.4048, 0.1549, 0.7943, 0.9601, 0.9007],\n",
       "         [0.0448, 0.4128, 0.1419, 0.7867, 0.3388, 0.0915, 0.1660, 0.1390],\n",
       "         [0.3459, 0.5660, 0.2966, 0.3715, 0.7704, 0.9623, 0.3419, 0.3138],\n",
       "         [0.5702, 0.4889, 0.7743, 0.4292, 0.4153, 0.7444, 0.5702, 0.4215]]])"
      ]
     },
     "execution_count": 23,
     "metadata": {},
     "output_type": "execute_result"
    }
   ],
   "source": [
    "x_rand = torch.rand_like(x_ones, dtype=torch.float) # overrides the datatype of x_data\n",
    "x_rand"
   ]
  },
  {
   "cell_type": "code",
   "execution_count": 28,
   "id": "36243d2c",
   "metadata": {},
   "outputs": [
    {
     "name": "stdout",
     "output_type": "stream",
     "text": [
      "rand_tensor tensor([[0.1251, 0.0958, 0.4570],\n",
      "        [0.1323, 0.6755, 0.8321]])\n",
      "\n",
      "ones_tensor tensor([[1., 1., 1.],\n",
      "        [1., 1., 1.]])\n",
      "\n",
      "zeros_tensor tensor([[0., 0., 0.],\n",
      "        [0., 0., 0.]])\n"
     ]
    }
   ],
   "source": [
    "shape = (2, 3, )\n",
    "\n",
    "rand_tensor = torch.rand(shape)\n",
    "print(\"rand_tensor\", rand_tensor)\n",
    "ones_tensor = torch.ones(shape)\n",
    "print(\"\\nones_tensor\", ones_tensor)\n",
    "zeros_tensor = torch.zeros(shape)\n",
    "print(\"\\nzeros_tensor\", zeros_tensor)"
   ]
  },
  {
   "cell_type": "code",
   "execution_count": 29,
   "id": "52516000",
   "metadata": {},
   "outputs": [
    {
     "data": {
      "text/plain": [
       "torch.Size([2, 3])"
      ]
     },
     "execution_count": 29,
     "metadata": {},
     "output_type": "execute_result"
    }
   ],
   "source": [
    "rand_tensor.shape"
   ]
  },
  {
   "cell_type": "code",
   "execution_count": 30,
   "id": "aea7976f",
   "metadata": {},
   "outputs": [
    {
     "data": {
      "text/plain": [
       "torch.float32"
      ]
     },
     "execution_count": 30,
     "metadata": {},
     "output_type": "execute_result"
    }
   ],
   "source": [
    "rand_tensor.dtype"
   ]
  },
  {
   "cell_type": "code",
   "execution_count": 32,
   "id": "10732433",
   "metadata": {},
   "outputs": [
    {
     "data": {
      "text/plain": [
       "device(type='cpu')"
      ]
     },
     "execution_count": 32,
     "metadata": {},
     "output_type": "execute_result"
    }
   ],
   "source": [
    "rand_tensor.device"
   ]
  }
 ],
 "metadata": {
  "kernelspec": {
   "display_name": ".venv",
   "language": "python",
   "name": "python3"
  },
  "language_info": {
   "codemirror_mode": {
    "name": "ipython",
    "version": 3
   },
   "file_extension": ".py",
   "mimetype": "text/x-python",
   "name": "python",
   "nbconvert_exporter": "python",
   "pygments_lexer": "ipython3",
   "version": "3.13.5"
  }
 },
 "nbformat": 4,
 "nbformat_minor": 5
}
